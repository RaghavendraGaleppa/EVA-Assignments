{
  "nbformat": 4,
  "nbformat_minor": 0,
  "metadata": {
    "colab": {
      "name": "Assignment 13-Final Version.ipynb",
      "provenance": [],
      "collapsed_sections": []
    },
    "kernelspec": {
      "name": "python3",
      "display_name": "Python 3"
    },
    "accelerator": "GPU"
  },
  "cells": [
    {
      "cell_type": "code",
      "metadata": {
        "id": "f0L78bY7U--T",
        "colab_type": "code",
        "outputId": "85a40c76-ff1c-4922-b0ad-d3f4e0897cb3",
        "colab": {
          "base_uri": "https://localhost:8080/",
          "height": 64
        }
      },
      "source": [
        "import tensorflow as tf\n",
        "import numpy as np"
      ],
      "execution_count": 0,
      "outputs": [
        {
          "output_type": "display_data",
          "data": {
            "text/html": [
              "<p style=\"color: red;\">\n",
              "The default version of TensorFlow in Colab will soon switch to TensorFlow 2.x.<br>\n",
              "We recommend you <a href=\"https://www.tensorflow.org/guide/migrate\" target=\"_blank\">upgrade</a> now \n",
              "or ensure your notebook will continue to use TensorFlow 1.x via the <code>%tensorflow_version 1.x</code> magic:\n",
              "<a href=\"https://colab.research.google.com/notebooks/tensorflow_version.ipynb\" target=\"_blank\">more info</a>.</p>\n"
            ],
            "text/plain": [
              "<IPython.core.display.HTML object>"
            ]
          },
          "metadata": {
            "tags": []
          }
        }
      ]
    },
    {
      "cell_type": "markdown",
      "metadata": {
        "id": "YGMS_351VE_2",
        "colab_type": "text"
      },
      "source": [
        "# Build the outermost model"
      ]
    },
    {
      "cell_type": "markdown",
      "metadata": {
        "id": "JU9E-MuiWQgi",
        "colab_type": "text"
      },
      "source": [
        "### A BatchNorm->Relu Block"
      ]
    },
    {
      "cell_type": "code",
      "metadata": {
        "id": "4rUZWn4MWWCe",
        "colab_type": "code",
        "colab": {}
      },
      "source": [
        "def _br():\n",
        "  def f(inputs):\n",
        "    bn = tf.keras.layers.BatchNormalization(axis=-1)(inputs)\n",
        "    relu = tf.keras.layers.Activation('relu')(bn)\n",
        "\n",
        "    return relu\n",
        "\n",
        "  return f"
      ],
      "execution_count": 0,
      "outputs": []
    },
    {
      "cell_type": "markdown",
      "metadata": {
        "id": "cuy2Oi4-T3fp",
        "colab_type": "text"
      },
      "source": [
        "### A conv->bn->relu Block"
      ]
    },
    {
      "cell_type": "code",
      "metadata": {
        "id": "cCDhfY_yT8Z-",
        "colab_type": "code",
        "colab": {}
      },
      "source": [
        "def _cbr(filters,kernel_size=3,strides=1):\n",
        "   \n",
        "  def f(inputs):\n",
        "    conv2d = tf.keras.layers.Conv2D(filters=filters,kernel_size=kernel_size,\n",
        "                                    strides=strides,padding='same',\n",
        "                                    use_bias=False, kernel_initializer='he_normal',\n",
        "                                    #kernel_regularizer=tf.keras.regularizers.l2(5e-4)\n",
        "                                    )(inputs)\n",
        "  \n",
        "    br = _br()(conv2d)\n",
        "\n",
        "    return br\n",
        "  return f"
      ],
      "execution_count": 0,
      "outputs": []
    },
    {
      "cell_type": "markdown",
      "metadata": {
        "id": "nWYnLuBRXYiU",
        "colab_type": "text"
      },
      "source": [
        "### Building a block according from the arctitecture given in how to train your resnet: baseline"
      ]
    },
    {
      "cell_type": "code",
      "metadata": {
        "id": "_qH1z5zgXjae",
        "colab_type": "code",
        "colab": {}
      },
      "source": [
        "def _block(filters,strides=1,first=False, scaledown=True):\n",
        "  def f(inputs):\n",
        "    x = inputs\n",
        "    identity = x\n",
        "    if(first == False):\n",
        "      x = _br()(x)\n",
        "    \n",
        "    if(strides == 2 or scaledown==False):\n",
        "      identity = tf.keras.layers.Conv2D(filters=filters,kernel_size=1,strides=strides,\n",
        "                                        use_bias=False,kernel_initializer='he_normal',\n",
        "                                        #kernel_regularizer=tf.keras.regularizers.l2(5e-4)\n",
        "                                         )(identity)\n",
        "      identity = tf.keras.layers.BatchNormalization(axis=-1)(identity)\n",
        "      #identity = _cbr(filters,kernel_size=1,strides=strides)(identity)\n",
        "    \n",
        "    # Create a branch as follows: conv1->bn->relu->conv2 and add x + conv2\n",
        "    x = _cbr(filters,strides=strides)(x)\n",
        "    x = tf.keras.layers.Conv2D(filters=filters,kernel_size=3,\n",
        "                               strides=1,padding='same',use_bias=False,\n",
        "                               kernel_initializer='he_normal',\n",
        "                               #kernel_regularizer=tf.keras.regularizers.l2(5e-4),\n",
        "                               )(x)\n",
        "    \n",
        "    # Now addition operation\n",
        "    x = tf.keras.layers.add([identity,x])\n",
        "\n",
        "    return x\n",
        "  return f"
      ],
      "execution_count": 0,
      "outputs": []
    },
    {
      "cell_type": "markdown",
      "metadata": {
        "id": "HiiycdX-wKH8",
        "colab_type": "text"
      },
      "source": [
        "### This is the block mention in the Identity importance Paper"
      ]
    },
    {
      "cell_type": "code",
      "metadata": {
        "id": "7EQQoFfzwO-o",
        "colab_type": "code",
        "colab": {}
      },
      "source": [
        "def _res_block(filters,strides=1):\n",
        "\n",
        "  def f(inputs):\n",
        "    identity = inputs\n",
        "    x = inputs\n",
        "    if strides==2:\n",
        "      #identity = tf.keras.layers.Conv2D(filters,kernel_size=1,strides=2,\n",
        "      #                                  using_bias=False,kernel_initializer=False)(identity)\n",
        "      identity = _cbr(filters,kernel_size=1,strides=2)(identity)\n",
        "\n",
        "    x = _cbr(filters,strides=strides)(x)\n",
        "    x = _cbr(filters,strides=1)(x)\n",
        "\n",
        "    x = tf.keras.layers.add([identity,x])\n",
        "\n",
        "    return x\n",
        "  return f"
      ],
      "execution_count": 0,
      "outputs": []
    },
    {
      "cell_type": "markdown",
      "metadata": {
        "id": "DkI3rSz1bMLz",
        "colab_type": "text"
      },
      "source": [
        "### Build a layer from the resnet 18 model"
      ]
    },
    {
      "cell_type": "code",
      "metadata": {
        "id": "guvEnDZxbQm-",
        "colab_type": "code",
        "colab": {}
      },
      "source": [
        "def _layer(filters,first=False,scaledown=True):\n",
        "\n",
        "  def f(inputs):\n",
        "    # Create two blocks \n",
        "    strides = 2\n",
        "    if(scaledown == False):\n",
        "      strides=1\n",
        "    block_1 = _block(filters=filters,strides=strides, scaledown=scaledown)(inputs)\n",
        "    block_2 = _block(filters=filters,strides=1, scaledown=scaledown)(block_1)\n",
        "\n",
        "    return block_2\n",
        "  \n",
        "  return f\n"
      ],
      "execution_count": 0,
      "outputs": []
    },
    {
      "cell_type": "markdown",
      "metadata": {
        "id": "FimgPgX5cNiX",
        "colab_type": "text"
      },
      "source": [
        "### Now build the complete Resnet18 Model"
      ]
    },
    {
      "cell_type": "code",
      "metadata": {
        "id": "LMpAelWkTX2N",
        "colab_type": "code",
        "colab": {}
      },
      "source": [
        "def Resnet18():\n",
        "  inputs = tf.keras.layers.Input(shape=(32,32,3))\n",
        "  conv_7x7 = tf.keras.layers.Conv2D(filters=64,kernel_size=7,strides=1, padding='same')(inputs)\n",
        "  layer_1 = _layer(filters=64,first=True,scaledown=False)(conv_7x7)\n",
        "  layer_2 = _layer(filters=128)(layer_1)\n",
        "  # The scaledown exists beacuse, the size of input image is reducing way too fast\n",
        "  layer_3 = _layer(filters=256, scaledown=True)(layer_2)\n",
        "  layer_4 = _layer(filters=512, scaledown=False)(layer_3)\n",
        "  avg = tf.keras.layers.GlobalAveragePooling2D()(layer_4)\n",
        "  #conv_8x8 = tf.keras.layers.Conv2D(10,8,1)(layer_4)\n",
        "  #flatten = tf.keras.layers.Flatten()(conv_8x8)\n",
        "  outputs = tf.keras.layers.Dense(10,activation='softmax')(avg)\n",
        "  \n",
        "  model = tf.keras.Model(inputs=inputs,outputs=outputs)\n",
        "  return model"
      ],
      "execution_count": 0,
      "outputs": []
    },
    {
      "cell_type": "code",
      "metadata": {
        "id": "XR60mI0GTyEj",
        "colab_type": "code",
        "outputId": "91d60901-cbab-422b-8eae-4b828ab6c1b9",
        "colab": {
          "base_uri": "https://localhost:8080/",
          "height": 1000
        }
      },
      "source": [
        "# Now test it on some random image\n",
        "img = np.random.uniform(0,1,size=(1,32,32,3)).astype('float32')\n",
        "print(img.shape)\n",
        "model = Resnet18()\n",
        "model.summary()"
      ],
      "execution_count": 0,
      "outputs": [
        {
          "output_type": "stream",
          "text": [
            "(1, 32, 32, 3)\n",
            "WARNING:tensorflow:From /usr/local/lib/python3.6/dist-packages/tensorflow_core/python/ops/resource_variable_ops.py:1630: calling BaseResourceVariable.__init__ (from tensorflow.python.ops.resource_variable_ops) with constraint is deprecated and will be removed in a future version.\n",
            "Instructions for updating:\n",
            "If using Keras pass *_constraint arguments to layers.\n",
            "Model: \"model\"\n",
            "__________________________________________________________________________________________________\n",
            "Layer (type)                    Output Shape         Param #     Connected to                     \n",
            "==================================================================================================\n",
            "input_1 (InputLayer)            [(None, 32, 32, 3)]  0                                            \n",
            "__________________________________________________________________________________________________\n",
            "conv2d (Conv2D)                 (None, 32, 32, 64)   9472        input_1[0][0]                    \n",
            "__________________________________________________________________________________________________\n",
            "batch_normalization (BatchNorma (None, 32, 32, 64)   256         conv2d[0][0]                     \n",
            "__________________________________________________________________________________________________\n",
            "activation (Activation)         (None, 32, 32, 64)   0           batch_normalization[0][0]        \n",
            "__________________________________________________________________________________________________\n",
            "conv2d_2 (Conv2D)               (None, 32, 32, 64)   36864       activation[0][0]                 \n",
            "__________________________________________________________________________________________________\n",
            "batch_normalization_2 (BatchNor (None, 32, 32, 64)   256         conv2d_2[0][0]                   \n",
            "__________________________________________________________________________________________________\n",
            "conv2d_1 (Conv2D)               (None, 32, 32, 64)   4096        conv2d[0][0]                     \n",
            "__________________________________________________________________________________________________\n",
            "activation_1 (Activation)       (None, 32, 32, 64)   0           batch_normalization_2[0][0]      \n",
            "__________________________________________________________________________________________________\n",
            "batch_normalization_1 (BatchNor (None, 32, 32, 64)   256         conv2d_1[0][0]                   \n",
            "__________________________________________________________________________________________________\n",
            "conv2d_3 (Conv2D)               (None, 32, 32, 64)   36864       activation_1[0][0]               \n",
            "__________________________________________________________________________________________________\n",
            "add (Add)                       (None, 32, 32, 64)   0           batch_normalization_1[0][0]      \n",
            "                                                                 conv2d_3[0][0]                   \n",
            "__________________________________________________________________________________________________\n",
            "batch_normalization_3 (BatchNor (None, 32, 32, 64)   256         add[0][0]                        \n",
            "__________________________________________________________________________________________________\n",
            "activation_2 (Activation)       (None, 32, 32, 64)   0           batch_normalization_3[0][0]      \n",
            "__________________________________________________________________________________________________\n",
            "conv2d_5 (Conv2D)               (None, 32, 32, 64)   36864       activation_2[0][0]               \n",
            "__________________________________________________________________________________________________\n",
            "batch_normalization_5 (BatchNor (None, 32, 32, 64)   256         conv2d_5[0][0]                   \n",
            "__________________________________________________________________________________________________\n",
            "conv2d_4 (Conv2D)               (None, 32, 32, 64)   4096        add[0][0]                        \n",
            "__________________________________________________________________________________________________\n",
            "activation_3 (Activation)       (None, 32, 32, 64)   0           batch_normalization_5[0][0]      \n",
            "__________________________________________________________________________________________________\n",
            "batch_normalization_4 (BatchNor (None, 32, 32, 64)   256         conv2d_4[0][0]                   \n",
            "__________________________________________________________________________________________________\n",
            "conv2d_6 (Conv2D)               (None, 32, 32, 64)   36864       activation_3[0][0]               \n",
            "__________________________________________________________________________________________________\n",
            "add_1 (Add)                     (None, 32, 32, 64)   0           batch_normalization_4[0][0]      \n",
            "                                                                 conv2d_6[0][0]                   \n",
            "__________________________________________________________________________________________________\n",
            "batch_normalization_6 (BatchNor (None, 32, 32, 64)   256         add_1[0][0]                      \n",
            "__________________________________________________________________________________________________\n",
            "activation_4 (Activation)       (None, 32, 32, 64)   0           batch_normalization_6[0][0]      \n",
            "__________________________________________________________________________________________________\n",
            "conv2d_8 (Conv2D)               (None, 16, 16, 128)  73728       activation_4[0][0]               \n",
            "__________________________________________________________________________________________________\n",
            "batch_normalization_8 (BatchNor (None, 16, 16, 128)  512         conv2d_8[0][0]                   \n",
            "__________________________________________________________________________________________________\n",
            "conv2d_7 (Conv2D)               (None, 16, 16, 128)  8192        add_1[0][0]                      \n",
            "__________________________________________________________________________________________________\n",
            "activation_5 (Activation)       (None, 16, 16, 128)  0           batch_normalization_8[0][0]      \n",
            "__________________________________________________________________________________________________\n",
            "batch_normalization_7 (BatchNor (None, 16, 16, 128)  512         conv2d_7[0][0]                   \n",
            "__________________________________________________________________________________________________\n",
            "conv2d_9 (Conv2D)               (None, 16, 16, 128)  147456      activation_5[0][0]               \n",
            "__________________________________________________________________________________________________\n",
            "add_2 (Add)                     (None, 16, 16, 128)  0           batch_normalization_7[0][0]      \n",
            "                                                                 conv2d_9[0][0]                   \n",
            "__________________________________________________________________________________________________\n",
            "batch_normalization_9 (BatchNor (None, 16, 16, 128)  512         add_2[0][0]                      \n",
            "__________________________________________________________________________________________________\n",
            "activation_6 (Activation)       (None, 16, 16, 128)  0           batch_normalization_9[0][0]      \n",
            "__________________________________________________________________________________________________\n",
            "conv2d_10 (Conv2D)              (None, 16, 16, 128)  147456      activation_6[0][0]               \n",
            "__________________________________________________________________________________________________\n",
            "batch_normalization_10 (BatchNo (None, 16, 16, 128)  512         conv2d_10[0][0]                  \n",
            "__________________________________________________________________________________________________\n",
            "activation_7 (Activation)       (None, 16, 16, 128)  0           batch_normalization_10[0][0]     \n",
            "__________________________________________________________________________________________________\n",
            "conv2d_11 (Conv2D)              (None, 16, 16, 128)  147456      activation_7[0][0]               \n",
            "__________________________________________________________________________________________________\n",
            "add_3 (Add)                     (None, 16, 16, 128)  0           add_2[0][0]                      \n",
            "                                                                 conv2d_11[0][0]                  \n",
            "__________________________________________________________________________________________________\n",
            "batch_normalization_11 (BatchNo (None, 16, 16, 128)  512         add_3[0][0]                      \n",
            "__________________________________________________________________________________________________\n",
            "activation_8 (Activation)       (None, 16, 16, 128)  0           batch_normalization_11[0][0]     \n",
            "__________________________________________________________________________________________________\n",
            "conv2d_13 (Conv2D)              (None, 8, 8, 256)    294912      activation_8[0][0]               \n",
            "__________________________________________________________________________________________________\n",
            "batch_normalization_13 (BatchNo (None, 8, 8, 256)    1024        conv2d_13[0][0]                  \n",
            "__________________________________________________________________________________________________\n",
            "conv2d_12 (Conv2D)              (None, 8, 8, 256)    32768       add_3[0][0]                      \n",
            "__________________________________________________________________________________________________\n",
            "activation_9 (Activation)       (None, 8, 8, 256)    0           batch_normalization_13[0][0]     \n",
            "__________________________________________________________________________________________________\n",
            "batch_normalization_12 (BatchNo (None, 8, 8, 256)    1024        conv2d_12[0][0]                  \n",
            "__________________________________________________________________________________________________\n",
            "conv2d_14 (Conv2D)              (None, 8, 8, 256)    589824      activation_9[0][0]               \n",
            "__________________________________________________________________________________________________\n",
            "add_4 (Add)                     (None, 8, 8, 256)    0           batch_normalization_12[0][0]     \n",
            "                                                                 conv2d_14[0][0]                  \n",
            "__________________________________________________________________________________________________\n",
            "batch_normalization_14 (BatchNo (None, 8, 8, 256)    1024        add_4[0][0]                      \n",
            "__________________________________________________________________________________________________\n",
            "activation_10 (Activation)      (None, 8, 8, 256)    0           batch_normalization_14[0][0]     \n",
            "__________________________________________________________________________________________________\n",
            "conv2d_15 (Conv2D)              (None, 8, 8, 256)    589824      activation_10[0][0]              \n",
            "__________________________________________________________________________________________________\n",
            "batch_normalization_15 (BatchNo (None, 8, 8, 256)    1024        conv2d_15[0][0]                  \n",
            "__________________________________________________________________________________________________\n",
            "activation_11 (Activation)      (None, 8, 8, 256)    0           batch_normalization_15[0][0]     \n",
            "__________________________________________________________________________________________________\n",
            "conv2d_16 (Conv2D)              (None, 8, 8, 256)    589824      activation_11[0][0]              \n",
            "__________________________________________________________________________________________________\n",
            "add_5 (Add)                     (None, 8, 8, 256)    0           add_4[0][0]                      \n",
            "                                                                 conv2d_16[0][0]                  \n",
            "__________________________________________________________________________________________________\n",
            "batch_normalization_16 (BatchNo (None, 8, 8, 256)    1024        add_5[0][0]                      \n",
            "__________________________________________________________________________________________________\n",
            "activation_12 (Activation)      (None, 8, 8, 256)    0           batch_normalization_16[0][0]     \n",
            "__________________________________________________________________________________________________\n",
            "conv2d_18 (Conv2D)              (None, 8, 8, 512)    1179648     activation_12[0][0]              \n",
            "__________________________________________________________________________________________________\n",
            "batch_normalization_18 (BatchNo (None, 8, 8, 512)    2048        conv2d_18[0][0]                  \n",
            "__________________________________________________________________________________________________\n",
            "conv2d_17 (Conv2D)              (None, 8, 8, 512)    131072      add_5[0][0]                      \n",
            "__________________________________________________________________________________________________\n",
            "activation_13 (Activation)      (None, 8, 8, 512)    0           batch_normalization_18[0][0]     \n",
            "__________________________________________________________________________________________________\n",
            "batch_normalization_17 (BatchNo (None, 8, 8, 512)    2048        conv2d_17[0][0]                  \n",
            "__________________________________________________________________________________________________\n",
            "conv2d_19 (Conv2D)              (None, 8, 8, 512)    2359296     activation_13[0][0]              \n",
            "__________________________________________________________________________________________________\n",
            "add_6 (Add)                     (None, 8, 8, 512)    0           batch_normalization_17[0][0]     \n",
            "                                                                 conv2d_19[0][0]                  \n",
            "__________________________________________________________________________________________________\n",
            "batch_normalization_19 (BatchNo (None, 8, 8, 512)    2048        add_6[0][0]                      \n",
            "__________________________________________________________________________________________________\n",
            "activation_14 (Activation)      (None, 8, 8, 512)    0           batch_normalization_19[0][0]     \n",
            "__________________________________________________________________________________________________\n",
            "conv2d_21 (Conv2D)              (None, 8, 8, 512)    2359296     activation_14[0][0]              \n",
            "__________________________________________________________________________________________________\n",
            "batch_normalization_21 (BatchNo (None, 8, 8, 512)    2048        conv2d_21[0][0]                  \n",
            "__________________________________________________________________________________________________\n",
            "conv2d_20 (Conv2D)              (None, 8, 8, 512)    262144      add_6[0][0]                      \n",
            "__________________________________________________________________________________________________\n",
            "activation_15 (Activation)      (None, 8, 8, 512)    0           batch_normalization_21[0][0]     \n",
            "__________________________________________________________________________________________________\n",
            "batch_normalization_20 (BatchNo (None, 8, 8, 512)    2048        conv2d_20[0][0]                  \n",
            "__________________________________________________________________________________________________\n",
            "conv2d_22 (Conv2D)              (None, 8, 8, 512)    2359296     activation_15[0][0]              \n",
            "__________________________________________________________________________________________________\n",
            "add_7 (Add)                     (None, 8, 8, 512)    0           batch_normalization_20[0][0]     \n",
            "                                                                 conv2d_22[0][0]                  \n",
            "__________________________________________________________________________________________________\n",
            "global_average_pooling2d (Globa (None, 512)          0           add_7[0][0]                      \n",
            "__________________________________________________________________________________________________\n",
            "dense (Dense)                   (None, 10)           5130        global_average_pooling2d[0][0]   \n",
            "==================================================================================================\n",
            "Total params: 11,462,154\n",
            "Trainable params: 11,452,298\n",
            "Non-trainable params: 9,856\n",
            "__________________________________________________________________________________________________\n"
          ],
          "name": "stdout"
        }
      ]
    },
    {
      "cell_type": "markdown",
      "metadata": {
        "id": "t0sJjobte6gQ",
        "colab_type": "text"
      },
      "source": [
        "# Training the Resnet 18 for CIFAR 10 for 300 epochs"
      ]
    },
    {
      "cell_type": "markdown",
      "metadata": {
        "id": "-F5bAPdve9lW",
        "colab_type": "text"
      },
      "source": [
        "### Prepare the data set\n",
        "Augement the dataset as the input type must be uint8"
      ]
    },
    {
      "cell_type": "code",
      "metadata": {
        "id": "Wmms1wgKe_u8",
        "colab_type": "code",
        "outputId": "7ab47126-21d2-4c6a-b9f0-81751b764f2e",
        "colab": {
          "base_uri": "https://localhost:8080/",
          "height": 52
        }
      },
      "source": [
        "BATCH_SIZE = 128\n",
        "(X_train,y_train), (X_test,y_test) = tf.keras.datasets.cifar10.load_data()\n",
        "\n",
        "X_train = X_train.astype('float32')\n",
        "X_test = X_test.astype('float32')\n",
        "\n",
        "\n",
        "X_train /= 255.0\n",
        "X_test /= 255.0\n",
        "mean,std = (0.4914, 0.4822, 0.4465), (0.2023, 0.1994, 0.2010)\n",
        "#mean, std = X_train.mean(axis=(0,1,2)), X_train.std(axis=(0,1,2))\n",
        "\n",
        "X_train = (X_train-mean)/std\n",
        "X_test = (X_test - mean)/std\n",
        "\n",
        "\n",
        "y_train = tf.keras.utils.to_categorical(y_train)\n",
        "y_test = tf.keras.utils.to_categorical(y_test)\n",
        "# Pad 4px and Crop to 32,32\n"
      ],
      "execution_count": 0,
      "outputs": [
        {
          "output_type": "stream",
          "text": [
            "Downloading data from https://www.cs.toronto.edu/~kriz/cifar-10-python.tar.gz\n",
            "170500096/170498071 [==============================] - 13s 0us/step\n"
          ],
          "name": "stdout"
        }
      ]
    },
    {
      "cell_type": "code",
      "metadata": {
        "id": "Q8Jg7qKnJ0Z2",
        "colab_type": "code",
        "colab": {}
      },
      "source": [
        "def random_erasing(img):\n",
        "  global mean\n",
        "  r = np.random.randint(0,2)\n",
        "  if(r == 0):\n",
        "    return img\n",
        "  h = np.random.randint(img.shape[0]//3,img.shape[0]//2)\n",
        "  w = np.random.randint(img.shape[1]//3,img.shape[1]//2)\n",
        "\n",
        "  x = np.random.randint(0,img.shape[0]//2)\n",
        "  y = np.random.randint(0,img.shape[1]//2)\n",
        "\n",
        "  img[x:x+h,y:y+h,:] = mean\n",
        "\n",
        "  return img"
      ],
      "execution_count": 0,
      "outputs": []
    },
    {
      "cell_type": "code",
      "metadata": {
        "id": "anfq2h6J33g7",
        "colab_type": "code",
        "colab": {}
      },
      "source": [
        "\n",
        "def pad_and_crop(img):\n",
        "  if(np.random.randint(0,2) == 0):\n",
        "    return img\n",
        "  img =  np.pad(img,((4,4),(4,4),(0,0)),mode='constant')\n",
        "  x,y = np.random.randint(0,4), np.random.randint(0,4)\n",
        "  img = img[x:x+32,y:y+32,:]\n",
        "  return img\n"
      ],
      "execution_count": 0,
      "outputs": []
    },
    {
      "cell_type": "code",
      "metadata": {
        "id": "Mm4_AQ3QCmr5",
        "colab_type": "code",
        "colab": {}
      },
      "source": [
        "def horizontal_flip(img):\n",
        "  if(np.random.randint(0,2) == 0):\n",
        "    return img\n",
        "  return np.flip(img,[1])"
      ],
      "execution_count": 0,
      "outputs": []
    },
    {
      "cell_type": "code",
      "metadata": {
        "id": "CMZtD_8EDy4x",
        "colab_type": "code",
        "colab": {}
      },
      "source": [
        "def data_aug(img):\n",
        "  img = pad_and_crop(img)\n",
        "  img = random_erasing(img)\n",
        "  #img = horizontal_flip(img)\n",
        "  return img"
      ],
      "execution_count": 0,
      "outputs": []
    },
    {
      "cell_type": "code",
      "metadata": {
        "colab_type": "code",
        "id": "P654i8svGtCX",
        "outputId": "e1b62a97-63e7-4ceb-e3b0-7bc0a2a1a387",
        "colab": {
          "base_uri": "https://localhost:8080/",
          "height": 34
        }
      },
      "source": [
        "## Image data generator\n",
        "from tensorflow.keras.preprocessing.image import ImageDataGenerator\n",
        "train_datagen = ImageDataGenerator(\n",
        "#    preprocessing_function=pad_and_crop_ra,\n",
        "    horizontal_flip=True,\n",
        ")\n",
        "#\n",
        "for i in range(len(X_train)):\n",
        "  print(f\"\\rAugmention Image:{i}/{len(X_train)}\", end=\" \")\n",
        "  X_train[i] = data_aug(X_train[i])\n",
        "train_data = train_datagen.flow(X_train,y_train,batch_size=BATCH_SIZE,)\n",
        "test_data = ImageDataGenerator().flow(X_test,y_test,batch_size=BATCH_SIZE)\n"
      ],
      "execution_count": 0,
      "outputs": [
        {
          "output_type": "stream",
          "text": [
            "Augmention Image:49999/50000 "
          ],
          "name": "stdout"
        }
      ]
    },
    {
      "cell_type": "markdown",
      "metadata": {
        "id": "ihLIWgnIHIgj",
        "colab_type": "text"
      },
      "source": [
        "### Using Cyclic LR"
      ]
    },
    {
      "cell_type": "code",
      "metadata": {
        "id": "O9uI0GUFHvMf",
        "colab_type": "code",
        "outputId": "f8c3bc01-88fa-497a-b96b-b288ab79f6ba",
        "colab": {
          "base_uri": "https://localhost:8080/",
          "height": 139
        }
      },
      "source": [
        "!rm -rf DLlib\n",
        "!git clone \"https://github.com/RaghavendraGaleppa/DLlib\""
      ],
      "execution_count": 0,
      "outputs": [
        {
          "output_type": "stream",
          "text": [
            "Cloning into 'DLlib'...\n",
            "remote: Enumerating objects: 144, done.\u001b[K\n",
            "remote: Counting objects: 100% (144/144), done.\u001b[K\n",
            "remote: Compressing objects: 100% (98/98), done.\u001b[K\n",
            "remote: Total 144 (delta 66), reused 115 (delta 39), pack-reused 0\u001b[K\n",
            "Receiving objects: 100% (144/144), 24.41 KiB | 127.00 KiB/s, done.\n",
            "Resolving deltas: 100% (66/66), done.\n"
          ],
          "name": "stdout"
        }
      ]
    },
    {
      "cell_type": "code",
      "metadata": {
        "id": "0rlpOxxrHNFA",
        "colab_type": "code",
        "colab": {}
      },
      "source": [
        "import DLlib as d\n",
        "from tensorflow.keras.callbacks import *\n",
        "step_size = 10\n",
        "#iter_size = 100\n",
        "iter_size = len(X_train)//BATCH_SIZE\n",
        "epochs = 100\n",
        "\n",
        "clr_triangular = d.utils.CyclicLR(base_lr=0.004,max_lr=0.1,step_size=2000)\n",
        "sgdr = d.utils.SGDRestart(base_lr=0.004,max_lr=0.01,step_size=200)\n",
        "cym = d.utils.CyclicMomentum(base_lr=0.9, max_lr=0.85, step_size=2000)\n",
        "\n",
        "modelCheckpoint1 = tf.keras.callbacks.ModelCheckpoint('every_50',save_freq=390*50)\n",
        "modelCheckpoint2 = tf.keras.callbacks.ModelCheckpoint('best_model',monitor='val_acc', save_best_only=True)"
      ],
      "execution_count": 0,
      "outputs": []
    },
    {
      "cell_type": "code",
      "metadata": {
        "id": "BiCKjD4t2TVo",
        "colab_type": "code",
        "colab": {}
      },
      "source": [
        "def weighted_loss(model,weight_decay):\n",
        "  def custom_loss(y, y_pred):\n",
        "    ''' A custom loss function to include weight decay '''\n",
        "    loss = tf.keras.losses.categorical_crossentropy(y, y_pred)\n",
        "    layers = [l for l in model.layers if type(l) == tf.keras.layers.Conv2D]\n",
        "    total_loss = 0.0\n",
        "    for l in layers:\n",
        "      total_loss += tf.nn.l2_loss(l.trainable_weights[0])\n",
        "    \n",
        "    return loss + total_loss*weight_decay\n",
        "  return custom_loss\n"
      ],
      "execution_count": 0,
      "outputs": []
    },
    {
      "cell_type": "markdown",
      "metadata": {
        "id": "By6EMy7RfzwE",
        "colab_type": "text"
      },
      "source": [
        "### Train the model"
      ]
    },
    {
      "cell_type": "code",
      "metadata": {
        "id": "zUGwjPvWgH6_",
        "colab_type": "code",
        "outputId": "70629554-cf08-4286-dc9e-b7e221fce798",
        "colab": {
          "base_uri": "https://localhost:8080/",
          "height": 1000
        }
      },
      "source": [
        "model = Resnet18()\n",
        "epochs=100\n",
        "opt = tf.keras.optimizers.SGD(learning_rate=0.01,nesterov=True,momentum=0.9,decay=0)\n",
        "model.compile(loss=weighted_loss(model, 5e-4),\n",
        "              optimizer=opt,\n",
        "              metrics=['accuracy'])\n",
        "history = model.fit_generator(train_data,steps_per_epoch=len(X_train)/BATCH_SIZE,\n",
        "        epochs=epochs,validation_data=test_data,\n",
        "        validation_steps=len(X_test)/BATCH_SIZE,\n",
        "        callbacks=[clr_triangular]\n",
        ")\n"
      ],
      "execution_count": 18,
      "outputs": [
        {
          "output_type": "stream",
          "text": [
            "Epoch 1/100\n",
            "390/390 [============================>.] - ETA: 0s - loss: 4.2334 - acc: 0.4233Epoch 1/100\n",
            "391/390 [==============================] - 92s 236ms/step - loss: 4.2325 - acc: 0.4236 - val_loss: 5.1117 - val_acc: 0.3484\n",
            "Epoch 2/100\n",
            "390/390 [============================>.] - ETA: 0s - loss: 3.6107 - acc: 0.5849Epoch 1/100\n",
            "391/390 [==============================] - 85s 219ms/step - loss: 3.6099 - acc: 0.5850 - val_loss: 4.4376 - val_acc: 0.4568\n",
            "Epoch 3/100\n",
            "390/390 [============================>.] - ETA: 0s - loss: 3.0924 - acc: 0.6608Epoch 1/100\n",
            "391/390 [==============================] - 87s 222ms/step - loss: 3.0916 - acc: 0.6609 - val_loss: 3.1311 - val_acc: 0.6321\n",
            "Epoch 4/100\n",
            "390/390 [============================>.] - ETA: 0s - loss: 2.6020 - acc: 0.7076Epoch 1/100\n",
            "391/390 [==============================] - 87s 221ms/step - loss: 2.6014 - acc: 0.7075 - val_loss: 2.5676 - val_acc: 0.6880\n",
            "Epoch 5/100\n",
            "390/390 [============================>.] - ETA: 0s - loss: 2.1531 - acc: 0.7368Epoch 1/100\n",
            "391/390 [==============================] - 87s 222ms/step - loss: 2.1528 - acc: 0.7367 - val_loss: 2.4463 - val_acc: 0.6639\n",
            "Epoch 6/100\n",
            "390/390 [============================>.] - ETA: 0s - loss: 1.7442 - acc: 0.7709Epoch 1/100\n",
            "391/390 [==============================] - 87s 222ms/step - loss: 1.7438 - acc: 0.7709 - val_loss: 1.8140 - val_acc: 0.7248\n",
            "Epoch 7/100\n",
            "390/390 [============================>.] - ETA: 0s - loss: 1.4166 - acc: 0.8130Epoch 1/100\n",
            "391/390 [==============================] - 87s 222ms/step - loss: 1.4164 - acc: 0.8130 - val_loss: 1.6138 - val_acc: 0.7635\n",
            "Epoch 8/100\n",
            "390/390 [============================>.] - ETA: 0s - loss: 1.1933 - acc: 0.8420Epoch 1/100\n",
            "391/390 [==============================] - 87s 221ms/step - loss: 1.1932 - acc: 0.8419 - val_loss: 1.1855 - val_acc: 0.8381\n",
            "Epoch 9/100\n",
            "390/390 [============================>.] - ETA: 0s - loss: 1.0113 - acc: 0.8785Epoch 1/100\n",
            "391/390 [==============================] - 86s 221ms/step - loss: 1.0113 - acc: 0.8786 - val_loss: 1.2107 - val_acc: 0.8195\n",
            "Epoch 10/100\n",
            "390/390 [============================>.] - ETA: 0s - loss: 0.8504 - acc: 0.9161Epoch 1/100\n",
            "391/390 [==============================] - 86s 220ms/step - loss: 0.8501 - acc: 0.9162 - val_loss: 0.9726 - val_acc: 0.8853\n",
            "Epoch 11/100\n",
            "390/390 [============================>.] - ETA: 0s - loss: 0.7464 - acc: 0.9464Epoch 1/100\n",
            "391/390 [==============================] - 86s 221ms/step - loss: 0.7464 - acc: 0.9464 - val_loss: 1.0940 - val_acc: 0.8507\n",
            "Epoch 12/100\n",
            "390/390 [============================>.] - ETA: 0s - loss: 0.8057 - acc: 0.9131Epoch 1/100\n",
            "391/390 [==============================] - 86s 221ms/step - loss: 0.8061 - acc: 0.9129 - val_loss: 1.2899 - val_acc: 0.7978\n",
            "Epoch 13/100\n",
            "390/390 [============================>.] - ETA: 0s - loss: 0.8921 - acc: 0.8748Epoch 1/100\n",
            "391/390 [==============================] - 87s 223ms/step - loss: 0.8921 - acc: 0.8748 - val_loss: 1.2301 - val_acc: 0.7720\n",
            "Epoch 14/100\n",
            "390/390 [============================>.] - ETA: 0s - loss: 0.9291 - acc: 0.8561Epoch 1/100\n",
            "391/390 [==============================] - 87s 222ms/step - loss: 0.9291 - acc: 0.8562 - val_loss: 1.2511 - val_acc: 0.7756\n",
            "Epoch 15/100\n",
            "390/390 [============================>.] - ETA: 0s - loss: 0.9559 - acc: 0.8426Epoch 1/100\n",
            "391/390 [==============================] - 87s 222ms/step - loss: 0.9556 - acc: 0.8428 - val_loss: 1.5543 - val_acc: 0.7150\n",
            "Epoch 16/100\n",
            "390/390 [============================>.] - ETA: 0s - loss: 0.9548 - acc: 0.8403Epoch 1/100\n",
            "391/390 [==============================] - 87s 222ms/step - loss: 0.9545 - acc: 0.8404 - val_loss: 1.1302 - val_acc: 0.7942\n",
            "Epoch 17/100\n",
            "390/390 [============================>.] - ETA: 0s - loss: 0.8608 - acc: 0.8674Epoch 1/100\n",
            "391/390 [==============================] - 87s 222ms/step - loss: 0.8605 - acc: 0.8674 - val_loss: 1.1483 - val_acc: 0.8102\n",
            "Epoch 18/100\n",
            "390/390 [============================>.] - ETA: 0s - loss: 0.7492 - acc: 0.8952Epoch 1/100\n",
            "391/390 [==============================] - 87s 222ms/step - loss: 0.7492 - acc: 0.8951 - val_loss: 0.9102 - val_acc: 0.8517\n",
            "Epoch 19/100\n",
            "390/390 [============================>.] - ETA: 0s - loss: 0.6404 - acc: 0.9225Epoch 1/100\n",
            "391/390 [==============================] - 87s 222ms/step - loss: 0.6403 - acc: 0.9225 - val_loss: 0.8903 - val_acc: 0.8616\n",
            "Epoch 20/100\n",
            "390/390 [============================>.] - ETA: 0s - loss: 0.5215 - acc: 0.9567Epoch 1/100\n",
            "391/390 [==============================] - 87s 222ms/step - loss: 0.5215 - acc: 0.9567 - val_loss: 0.7512 - val_acc: 0.9018\n",
            "Epoch 21/100\n",
            "390/390 [============================>.] - ETA: 0s - loss: 0.4392 - acc: 0.9815Epoch 1/100\n",
            "391/390 [==============================] - 86s 221ms/step - loss: 0.4392 - acc: 0.9815 - val_loss: 0.8078 - val_acc: 0.8913\n",
            "Epoch 22/100\n",
            "390/390 [============================>.] - ETA: 0s - loss: 0.4545 - acc: 0.9697Epoch 1/100\n",
            "391/390 [==============================] - 86s 221ms/step - loss: 0.4544 - acc: 0.9697 - val_loss: 0.9912 - val_acc: 0.8448\n",
            "Epoch 23/100\n",
            "390/390 [============================>.] - ETA: 0s - loss: 0.5771 - acc: 0.9234Epoch 1/100\n",
            "391/390 [==============================] - 86s 221ms/step - loss: 0.5772 - acc: 0.9234 - val_loss: 0.8779 - val_acc: 0.8471\n",
            "Epoch 24/100\n",
            "390/390 [============================>.] - ETA: 0s - loss: 0.6922 - acc: 0.8924Epoch 1/100\n",
            "391/390 [==============================] - 86s 221ms/step - loss: 0.6924 - acc: 0.8924 - val_loss: 1.1016 - val_acc: 0.8112\n",
            "Epoch 25/100\n",
            "390/390 [============================>.] - ETA: 0s - loss: 0.7799 - acc: 0.8746Epoch 1/100\n",
            "391/390 [==============================] - 86s 220ms/step - loss: 0.7801 - acc: 0.8746 - val_loss: 1.0727 - val_acc: 0.7947\n",
            "Epoch 26/100\n",
            "390/390 [============================>.] - ETA: 0s - loss: 0.8459 - acc: 0.8659Epoch 1/100\n",
            "391/390 [==============================] - 86s 220ms/step - loss: 0.8458 - acc: 0.8660 - val_loss: 1.2332 - val_acc: 0.7595\n",
            "Epoch 27/100\n",
            "390/390 [============================>.] - ETA: 0s - loss: 0.7985 - acc: 0.8854Epoch 1/100\n",
            "391/390 [==============================] - 86s 221ms/step - loss: 0.7984 - acc: 0.8855 - val_loss: 0.9830 - val_acc: 0.8403\n",
            "Epoch 28/100\n",
            "390/390 [============================>.] - ETA: 0s - loss: 0.7060 - acc: 0.9134Epoch 1/100\n",
            "391/390 [==============================] - 87s 222ms/step - loss: 0.7060 - acc: 0.9135 - val_loss: 1.0349 - val_acc: 0.8418\n",
            "Epoch 29/100\n",
            "390/390 [============================>.] - ETA: 0s - loss: 0.6113 - acc: 0.9384Epoch 1/100\n",
            "391/390 [==============================] - 87s 222ms/step - loss: 0.6113 - acc: 0.9384 - val_loss: 0.8330 - val_acc: 0.8775\n",
            "Epoch 30/100\n",
            "390/390 [============================>.] - ETA: 0s - loss: 0.5005 - acc: 0.9680Epoch 1/100\n",
            "391/390 [==============================] - 87s 222ms/step - loss: 0.5005 - acc: 0.9679 - val_loss: 0.8051 - val_acc: 0.8937\n",
            "Epoch 31/100\n",
            "390/390 [============================>.] - ETA: 0s - loss: 0.4226 - acc: 0.9893Epoch 1/100\n",
            "391/390 [==============================] - 87s 223ms/step - loss: 0.4226 - acc: 0.9893 - val_loss: 0.7428 - val_acc: 0.9116\n",
            "Epoch 32/100\n",
            "390/390 [============================>.] - ETA: 0s - loss: 0.4057 - acc: 0.9891Epoch 1/100\n",
            "391/390 [==============================] - 87s 222ms/step - loss: 0.4057 - acc: 0.9891 - val_loss: 1.0213 - val_acc: 0.8597\n",
            "Epoch 33/100\n",
            "390/390 [============================>.] - ETA: 0s - loss: 0.4892 - acc: 0.9534Epoch 1/100\n",
            "391/390 [==============================] - 87s 223ms/step - loss: 0.4894 - acc: 0.9533 - val_loss: 1.3132 - val_acc: 0.7795\n",
            "Epoch 34/100\n",
            "390/390 [============================>.] - ETA: 0s - loss: 0.6265 - acc: 0.9147Epoch 1/100\n",
            "391/390 [==============================] - 87s 223ms/step - loss: 0.6266 - acc: 0.9146 - val_loss: 1.0147 - val_acc: 0.8274\n",
            "Epoch 35/100\n",
            "390/390 [============================>.] - ETA: 0s - loss: 0.7303 - acc: 0.8938Epoch 1/100\n",
            "391/390 [==============================] - 87s 223ms/step - loss: 0.7304 - acc: 0.8938 - val_loss: 1.4683 - val_acc: 0.7455\n",
            "Epoch 36/100\n",
            "390/390 [============================>.] - ETA: 0s - loss: 0.8234 - acc: 0.8797Epoch 1/100\n",
            "391/390 [==============================] - 87s 222ms/step - loss: 0.8235 - acc: 0.8797 - val_loss: 1.1816 - val_acc: 0.8098\n",
            "Epoch 37/100\n",
            "390/390 [============================>.] - ETA: 0s - loss: 0.8185 - acc: 0.8914Epoch 1/100\n",
            "391/390 [==============================] - 87s 222ms/step - loss: 0.8185 - acc: 0.8914 - val_loss: 1.1095 - val_acc: 0.8288\n",
            "Epoch 38/100\n",
            "390/390 [============================>.] - ETA: 0s - loss: 0.7352 - acc: 0.9183Epoch 1/100\n",
            "391/390 [==============================] - 87s 221ms/step - loss: 0.7352 - acc: 0.9183 - val_loss: 1.0125 - val_acc: 0.8530\n",
            "Epoch 39/100\n",
            "390/390 [============================>.] - ETA: 0s - loss: 0.6304 - acc: 0.9450Epoch 1/100\n",
            "391/390 [==============================] - 87s 221ms/step - loss: 0.6306 - acc: 0.9450 - val_loss: 0.9950 - val_acc: 0.8619\n",
            "Epoch 40/100\n",
            "390/390 [============================>.] - ETA: 0s - loss: 0.5231 - acc: 0.9716Epoch 1/100\n",
            "391/390 [==============================] - 86s 221ms/step - loss: 0.5230 - acc: 0.9717 - val_loss: 0.8034 - val_acc: 0.8958\n",
            "Epoch 41/100\n",
            "390/390 [============================>.] - ETA: 0s - loss: 0.4451 - acc: 0.9892Epoch 1/100\n",
            "391/390 [==============================] - 86s 220ms/step - loss: 0.4450 - acc: 0.9892 - val_loss: 0.7611 - val_acc: 0.9127\n",
            "Epoch 42/100\n",
            "390/390 [============================>.] - ETA: 0s - loss: 0.4140 - acc: 0.9956Epoch 1/100\n",
            "391/390 [==============================] - 86s 220ms/step - loss: 0.4139 - acc: 0.9956 - val_loss: 0.8127 - val_acc: 0.9003\n",
            "Epoch 43/100\n",
            "390/390 [============================>.] - ETA: 0s - loss: 0.4448 - acc: 0.9756Epoch 1/100\n",
            "391/390 [==============================] - 86s 220ms/step - loss: 0.4449 - acc: 0.9755 - val_loss: 1.2373 - val_acc: 0.8031\n",
            "Epoch 44/100\n",
            "390/390 [============================>.] - ETA: 0s - loss: 0.5966 - acc: 0.9268Epoch 1/100\n",
            "391/390 [==============================] - 86s 220ms/step - loss: 0.5970 - acc: 0.9267 - val_loss: 1.4131 - val_acc: 0.7642\n",
            "Epoch 45/100\n",
            "390/390 [============================>.] - ETA: 0s - loss: 0.7173 - acc: 0.9013Epoch 1/100\n",
            "391/390 [==============================] - 86s 221ms/step - loss: 0.7177 - acc: 0.9012 - val_loss: 1.1858 - val_acc: 0.7976\n",
            "Epoch 46/100\n",
            "390/390 [============================>.] - ETA: 0s - loss: 0.8053 - acc: 0.8917Epoch 1/100\n",
            "391/390 [==============================] - 86s 221ms/step - loss: 0.8054 - acc: 0.8917 - val_loss: 1.3694 - val_acc: 0.7789\n",
            "Epoch 47/100\n",
            "390/390 [============================>.] - ETA: 0s - loss: 0.8459 - acc: 0.8914Epoch 1/100\n",
            "391/390 [==============================] - 86s 221ms/step - loss: 0.8456 - acc: 0.8915 - val_loss: 1.1280 - val_acc: 0.8255\n",
            "Epoch 48/100\n",
            "390/390 [============================>.] - ETA: 0s - loss: 0.7606 - acc: 0.9190Epoch 1/100\n",
            "391/390 [==============================] - 86s 221ms/step - loss: 0.7605 - acc: 0.9191 - val_loss: 1.1050 - val_acc: 0.8381\n",
            "Epoch 49/100\n",
            "390/390 [============================>.] - ETA: 0s - loss: 0.6599 - acc: 0.9445Epoch 1/100\n",
            "391/390 [==============================] - 86s 221ms/step - loss: 0.6599 - acc: 0.9445 - val_loss: 1.1668 - val_acc: 0.8214\n",
            "Epoch 50/100\n",
            "390/390 [============================>.] - ETA: 0s - loss: 0.5505 - acc: 0.9701Epoch 1/100\n",
            "391/390 [==============================] - 86s 221ms/step - loss: 0.5504 - acc: 0.9702 - val_loss: 0.8287 - val_acc: 0.8995\n",
            "Epoch 51/100\n",
            "390/390 [============================>.] - ETA: 0s - loss: 0.4669 - acc: 0.9891Epoch 1/100\n",
            "391/390 [==============================] - 86s 221ms/step - loss: 0.4669 - acc: 0.9891 - val_loss: 0.8032 - val_acc: 0.9105\n",
            "Epoch 52/100\n",
            "390/390 [============================>.] - ETA: 0s - loss: 0.4320 - acc: 0.9958Epoch 1/100\n",
            "391/390 [==============================] - 86s 220ms/step - loss: 0.4319 - acc: 0.9958 - val_loss: 0.8300 - val_acc: 0.9059\n",
            "Epoch 53/100\n",
            "390/390 [============================>.] - ETA: 0s - loss: 0.4207 - acc: 0.9897Epoch 1/100\n",
            "391/390 [==============================] - 86s 220ms/step - loss: 0.4208 - acc: 0.9896 - val_loss: 1.1151 - val_acc: 0.8492\n",
            "Epoch 54/100\n",
            "390/390 [============================>.] - ETA: 0s - loss: 0.5573 - acc: 0.9411Epoch 1/100\n",
            "391/390 [==============================] - 86s 220ms/step - loss: 0.5574 - acc: 0.9410 - val_loss: 1.1626 - val_acc: 0.8070\n",
            "Epoch 55/100\n",
            "390/390 [============================>.] - ETA: 0s - loss: 0.6858 - acc: 0.9122Epoch 1/100\n",
            "391/390 [==============================] - 86s 220ms/step - loss: 0.6861 - acc: 0.9121 - val_loss: 1.4296 - val_acc: 0.7540\n",
            "Epoch 56/100\n",
            "390/390 [============================>.] - ETA: 0s - loss: 0.7922 - acc: 0.8979Epoch 1/100\n",
            "391/390 [==============================] - 86s 221ms/step - loss: 0.7924 - acc: 0.8978 - val_loss: 1.3966 - val_acc: 0.7501\n",
            "Epoch 57/100\n",
            "390/390 [============================>.] - ETA: 0s - loss: 0.8527 - acc: 0.8938Epoch 1/100\n",
            "391/390 [==============================] - 87s 223ms/step - loss: 0.8530 - acc: 0.8938 - val_loss: 1.1047 - val_acc: 0.8242\n",
            "Epoch 58/100\n",
            "390/390 [============================>.] - ETA: 0s - loss: 0.7875 - acc: 0.9177Epoch 1/100\n",
            "391/390 [==============================] - 87s 222ms/step - loss: 0.7874 - acc: 0.9177 - val_loss: 1.0931 - val_acc: 0.8359\n",
            "Epoch 59/100\n",
            "390/390 [============================>.] - ETA: 0s - loss: 0.6870 - acc: 0.9439Epoch 1/100\n",
            "391/390 [==============================] - 86s 220ms/step - loss: 0.6869 - acc: 0.9438 - val_loss: 1.1102 - val_acc: 0.8470\n",
            "Epoch 60/100\n",
            "390/390 [============================>.] - ETA: 0s - loss: 0.5806 - acc: 0.9678Epoch 1/100\n",
            "391/390 [==============================] - 86s 220ms/step - loss: 0.5807 - acc: 0.9677 - val_loss: 0.8960 - val_acc: 0.8901\n",
            "Epoch 61/100\n",
            "390/390 [============================>.] - ETA: 0s - loss: 0.4913 - acc: 0.9869Epoch 1/100\n",
            "391/390 [==============================] - 86s 220ms/step - loss: 0.4912 - acc: 0.9870 - val_loss: 0.8074 - val_acc: 0.9067\n",
            "Epoch 62/100\n",
            "390/390 [============================>.] - ETA: 0s - loss: 0.4465 - acc: 0.9958Epoch 1/100\n",
            "391/390 [==============================] - 86s 220ms/step - loss: 0.4465 - acc: 0.9958 - val_loss: 0.7967 - val_acc: 0.9101\n",
            "Epoch 63/100\n",
            "390/390 [============================>.] - ETA: 0s - loss: 0.4268 - acc: 0.9946Epoch 1/100\n",
            "391/390 [==============================] - 86s 220ms/step - loss: 0.4268 - acc: 0.9946 - val_loss: 0.8808 - val_acc: 0.8894\n",
            "Epoch 64/100\n",
            "390/390 [============================>.] - ETA: 0s - loss: 0.5001 - acc: 0.9622Epoch 1/100\n",
            "391/390 [==============================] - 86s 220ms/step - loss: 0.5002 - acc: 0.9622 - val_loss: 1.2754 - val_acc: 0.8258\n",
            "Epoch 65/100\n",
            "390/390 [============================>.] - ETA: 0s - loss: 0.6600 - acc: 0.9192Epoch 1/100\n",
            "391/390 [==============================] - 86s 220ms/step - loss: 0.6599 - acc: 0.9193 - val_loss: 1.4650 - val_acc: 0.7612\n",
            "Epoch 66/100\n",
            "390/390 [============================>.] - ETA: 0s - loss: 0.7781 - acc: 0.9002Epoch 1/100\n",
            "391/390 [==============================] - 86s 220ms/step - loss: 0.7782 - acc: 0.9001 - val_loss: 1.1796 - val_acc: 0.7869\n",
            "Epoch 67/100\n",
            "390/390 [============================>.] - ETA: 0s - loss: 0.8509 - acc: 0.8955Epoch 1/100\n",
            "391/390 [==============================] - 86s 220ms/step - loss: 0.8507 - acc: 0.8955 - val_loss: 1.2619 - val_acc: 0.7994\n",
            "Epoch 68/100\n",
            "390/390 [============================>.] - ETA: 0s - loss: 0.8137 - acc: 0.9149Epoch 1/100\n",
            "391/390 [==============================] - 86s 221ms/step - loss: 0.8137 - acc: 0.9149 - val_loss: 1.0804 - val_acc: 0.8537\n",
            "Epoch 69/100\n",
            "390/390 [============================>.] - ETA: 0s - loss: 0.7145 - acc: 0.9400Epoch 1/100\n",
            "391/390 [==============================] - 86s 220ms/step - loss: 0.7144 - acc: 0.9400 - val_loss: 0.9997 - val_acc: 0.8646\n",
            "Epoch 70/100\n",
            "390/390 [============================>.] - ETA: 0s - loss: 0.6052 - acc: 0.9651Epoch 1/100\n",
            "391/390 [==============================] - 86s 220ms/step - loss: 0.6052 - acc: 0.9651 - val_loss: 0.9502 - val_acc: 0.8834\n",
            "Epoch 71/100\n",
            "390/390 [============================>.] - ETA: 0s - loss: 0.5108 - acc: 0.9843Epoch 1/100\n",
            "391/390 [==============================] - 86s 220ms/step - loss: 0.5107 - acc: 0.9843 - val_loss: 0.8575 - val_acc: 0.9031\n",
            "Epoch 72/100\n",
            "390/390 [============================>.] - ETA: 0s - loss: 0.4582 - acc: 0.9952Epoch 1/100\n",
            "391/390 [==============================] - 86s 220ms/step - loss: 0.4582 - acc: 0.9952 - val_loss: 0.7920 - val_acc: 0.9123\n",
            "Epoch 73/100\n",
            "390/390 [============================>.] - ETA: 0s - loss: 0.4324 - acc: 0.9969Epoch 1/100\n",
            "391/390 [==============================] - 86s 220ms/step - loss: 0.4324 - acc: 0.9968 - val_loss: 0.8345 - val_acc: 0.9018\n",
            "Epoch 74/100\n",
            "390/390 [============================>.] - ETA: 0s - loss: 0.4709 - acc: 0.9732Epoch 1/100\n",
            "391/390 [==============================] - 86s 220ms/step - loss: 0.4714 - acc: 0.9730 - val_loss: 1.6286 - val_acc: 0.7645\n",
            "Epoch 75/100\n",
            "390/390 [============================>.] - ETA: 0s - loss: 0.6388 - acc: 0.9253Epoch 1/100\n",
            "391/390 [==============================] - 86s 221ms/step - loss: 0.6389 - acc: 0.9252 - val_loss: 1.6221 - val_acc: 0.7062\n",
            "Epoch 76/100\n",
            "390/390 [============================>.] - ETA: 0s - loss: 0.7504 - acc: 0.9080Epoch 1/100\n",
            "391/390 [==============================] - 87s 221ms/step - loss: 0.7505 - acc: 0.9080 - val_loss: 1.2743 - val_acc: 0.8059\n",
            "Epoch 77/100\n",
            "390/390 [============================>.] - ETA: 0s - loss: 0.8497 - acc: 0.8954Epoch 1/100\n",
            "391/390 [==============================] - 86s 221ms/step - loss: 0.8497 - acc: 0.8954 - val_loss: 1.2596 - val_acc: 0.8031\n",
            "Epoch 78/100\n",
            "390/390 [============================>.] - ETA: 0s - loss: 0.8339 - acc: 0.9104Epoch 1/100\n",
            "391/390 [==============================] - 86s 221ms/step - loss: 0.8337 - acc: 0.9104 - val_loss: 1.1726 - val_acc: 0.8270\n",
            "Epoch 79/100\n",
            "390/390 [============================>.] - ETA: 0s - loss: 0.7443 - acc: 0.9363Epoch 1/100\n",
            "391/390 [==============================] - 87s 222ms/step - loss: 0.7443 - acc: 0.9363 - val_loss: 1.0667 - val_acc: 0.8536\n",
            "Epoch 80/100\n",
            "390/390 [============================>.] - ETA: 0s - loss: 0.6300 - acc: 0.9625Epoch 1/100\n",
            "391/390 [==============================] - 87s 221ms/step - loss: 0.6300 - acc: 0.9624 - val_loss: 0.9731 - val_acc: 0.8746\n",
            "Epoch 81/100\n",
            "390/390 [============================>.] - ETA: 0s - loss: 0.5308 - acc: 0.9823Epoch 1/100\n",
            "391/390 [==============================] - 86s 221ms/step - loss: 0.5306 - acc: 0.9823 - val_loss: 0.8254 - val_acc: 0.9092\n",
            "Epoch 82/100\n",
            "390/390 [============================>.] - ETA: 0s - loss: 0.4657 - acc: 0.9946Epoch 1/100\n",
            "391/390 [==============================] - 86s 221ms/step - loss: 0.4657 - acc: 0.9946 - val_loss: 0.7895 - val_acc: 0.9159\n",
            "Epoch 83/100\n",
            "390/390 [============================>.] - ETA: 0s - loss: 0.4400 - acc: 0.9977Epoch 1/100\n",
            "391/390 [==============================] - 86s 220ms/step - loss: 0.4400 - acc: 0.9977 - val_loss: 0.8227 - val_acc: 0.9096\n",
            "Epoch 84/100\n",
            "390/390 [============================>.] - ETA: 0s - loss: 0.4298 - acc: 0.9893Epoch 1/100\n",
            "391/390 [==============================] - 86s 220ms/step - loss: 0.4299 - acc: 0.9893 - val_loss: 1.2256 - val_acc: 0.8236\n",
            "Epoch 85/100\n",
            "390/390 [============================>.] - ETA: 0s - loss: 0.6069 - acc: 0.9330Epoch 1/100\n",
            "391/390 [==============================] - 86s 220ms/step - loss: 0.6070 - acc: 0.9331 - val_loss: 1.2501 - val_acc: 0.8085\n",
            "Epoch 86/100\n",
            "390/390 [============================>.] - ETA: 0s - loss: 0.7279 - acc: 0.9116Epoch 1/100\n",
            "391/390 [==============================] - 86s 220ms/step - loss: 0.7283 - acc: 0.9115 - val_loss: 1.1856 - val_acc: 0.7908\n",
            "Epoch 87/100\n",
            "390/390 [============================>.] - ETA: 0s - loss: 0.8342 - acc: 0.8992Epoch 1/100\n",
            "391/390 [==============================] - 86s 220ms/step - loss: 0.8343 - acc: 0.8992 - val_loss: 1.2457 - val_acc: 0.7975\n",
            "Epoch 88/100\n",
            "390/390 [============================>.] - ETA: 0s - loss: 0.8629 - acc: 0.9040Epoch 1/100\n",
            "391/390 [==============================] - 86s 220ms/step - loss: 0.8629 - acc: 0.9039 - val_loss: 1.1229 - val_acc: 0.8348\n",
            "Epoch 89/100\n",
            "390/390 [============================>.] - ETA: 0s - loss: 0.7675 - acc: 0.9334Epoch 1/100\n",
            "391/390 [==============================] - 86s 220ms/step - loss: 0.7674 - acc: 0.9334 - val_loss: 1.1041 - val_acc: 0.8469\n",
            "Epoch 90/100\n",
            "390/390 [============================>.] - ETA: 0s - loss: 0.6611 - acc: 0.9572Epoch 1/100\n",
            "391/390 [==============================] - 86s 220ms/step - loss: 0.6611 - acc: 0.9571 - val_loss: 0.9268 - val_acc: 0.8878\n",
            "Epoch 91/100\n",
            "390/390 [============================>.] - ETA: 0s - loss: 0.5536 - acc: 0.9791Epoch 1/100\n",
            "391/390 [==============================] - 86s 220ms/step - loss: 0.5537 - acc: 0.9791 - val_loss: 0.8807 - val_acc: 0.9061\n",
            "Epoch 92/100\n",
            "390/390 [============================>.] - ETA: 0s - loss: 0.4814 - acc: 0.9932Epoch 1/100\n",
            "391/390 [==============================] - 86s 220ms/step - loss: 0.4813 - acc: 0.9933 - val_loss: 0.7992 - val_acc: 0.9156\n",
            "Epoch 93/100\n",
            "390/390 [============================>.] - ETA: 0s - loss: 0.4532 - acc: 0.9971Epoch 1/100\n",
            "391/390 [==============================] - 86s 220ms/step - loss: 0.4531 - acc: 0.9971 - val_loss: 0.7991 - val_acc: 0.9139\n",
            "Epoch 94/100\n",
            "390/390 [============================>.] - ETA: 0s - loss: 0.4339 - acc: 0.9931Epoch 1/100\n",
            "391/390 [==============================] - 86s 220ms/step - loss: 0.4339 - acc: 0.9931 - val_loss: 1.0515 - val_acc: 0.8639\n",
            "Epoch 95/100\n",
            "390/390 [============================>.] - ETA: 0s - loss: 0.5564 - acc: 0.9488Epoch 1/100\n",
            "391/390 [==============================] - 86s 220ms/step - loss: 0.5566 - acc: 0.9487 - val_loss: 1.2733 - val_acc: 0.7971\n",
            "Epoch 96/100\n",
            "390/390 [============================>.] - ETA: 0s - loss: 0.6953 - acc: 0.9201Epoch 1/100\n",
            "391/390 [==============================] - 86s 219ms/step - loss: 0.6953 - acc: 0.9201 - val_loss: 1.6723 - val_acc: 0.7381\n",
            "Epoch 97/100\n",
            "390/390 [============================>.] - ETA: 0s - loss: 0.8132 - acc: 0.9015Epoch 1/100\n",
            "391/390 [==============================] - 86s 219ms/step - loss: 0.8132 - acc: 0.9015 - val_loss: 1.4978 - val_acc: 0.7455\n",
            "Epoch 98/100\n",
            "390/390 [============================>.] - ETA: 0s - loss: 0.8674 - acc: 0.9028Epoch 1/100\n",
            "391/390 [==============================] - 86s 219ms/step - loss: 0.8673 - acc: 0.9028 - val_loss: 1.1891 - val_acc: 0.8204\n",
            "Epoch 99/100\n",
            "390/390 [============================>.] - ETA: 0s - loss: 0.7781 - acc: 0.9316Epoch 1/100\n",
            "391/390 [==============================] - 86s 219ms/step - loss: 0.7780 - acc: 0.9316 - val_loss: 1.2124 - val_acc: 0.8337\n",
            "Epoch 100/100\n",
            "390/390 [============================>.] - ETA: 0s - loss: 0.6845 - acc: 0.9530Epoch 1/100\n",
            "391/390 [==============================] - 86s 219ms/step - loss: 0.6845 - acc: 0.9530 - val_loss: 0.9724 - val_acc: 0.8795\n"
          ],
          "name": "stdout"
        }
      ]
    },
    {
      "cell_type": "markdown",
      "metadata": {
        "id": "YP8as6sy3CMy",
        "colab_type": "text"
      },
      "source": [
        "\n",
        "### Plotting the history"
      ]
    },
    {
      "cell_type": "code",
      "metadata": {
        "id": "D1fWy6YLO3CD",
        "colab_type": "code",
        "colab": {
          "base_uri": "https://localhost:8080/",
          "height": 34
        },
        "outputId": "0bc9b720-0a56-41a9-9769-462f427c23a9"
      },
      "source": [
        "len(train_data)"
      ],
      "execution_count": 19,
      "outputs": [
        {
          "output_type": "execute_result",
          "data": {
            "text/plain": [
              "391"
            ]
          },
          "metadata": {
            "tags": []
          },
          "execution_count": 19
        }
      ]
    },
    {
      "cell_type": "code",
      "metadata": {
        "id": "jLx-llwc3Znq",
        "colab_type": "code",
        "colab": {
          "base_uri": "https://localhost:8080/",
          "height": 286
        },
        "outputId": "4afa5be5-2fa8-46b4-98b6-ebc7267cbea1"
      },
      "source": [
        "import matplotlib.pyplot as plt\n",
        "plt.semilogx(clr_triangular.history['lr'], clr_triangular.history['loss'])"
      ],
      "execution_count": 20,
      "outputs": [
        {
          "output_type": "execute_result",
          "data": {
            "text/plain": [
              "[<matplotlib.lines.Line2D at 0x7f86728eb588>]"
            ]
          },
          "metadata": {
            "tags": []
          },
          "execution_count": 20
        },
        {
          "output_type": "display_data",
          "data": {
            "image/png": "[encoded data removed]",
            "text/plain": [
              "<Figure size 432x288 with 1 Axes>"
            ]
          },
          "metadata": {
            "tags": []
          }
        }
      ]
    },
    {
      "cell_type": "code",
      "metadata": {
        "id": "UKRmW5r2t673",
        "colab_type": "code",
        "colab": {
          "base_uri": "https://localhost:8080/",
          "height": 286
        },
        "outputId": "e0514cd8-cdcc-4761-cea3-ec757909c096"
      },
      "source": [
        "#plt.semilogx(clr_triangular.history['lr'], clr_triangular.history['loss'])\n",
        "plt.semilogx(clr_triangular.history['lr'], clr_triangular.history['acc'])"
      ],
      "execution_count": 21,
      "outputs": [
        {
          "output_type": "execute_result",
          "data": {
            "text/plain": [
              "[<matplotlib.lines.Line2D at 0x7f8677fa18d0>]"
            ]
          },
          "metadata": {
            "tags": []
          },
          "execution_count": 21
        },
        {
          "output_type": "display_data",
          "data": {
            "image/png": "[encoded data removed]",
            "text/plain": [
              "<Figure size 432x288 with 1 Axes>"
            ]
          },
          "metadata": {
            "tags": []
          }
        }
      ]
    },
    {
      "cell_type": "code",
      "metadata": {
        "id": "LHoVRC3w1Miy",
        "colab_type": "code",
        "colab": {
          "base_uri": "https://localhost:8080/",
          "height": 451
        },
        "outputId": "b6e211c4-f2d4-4c29-b5c3-9fb0a3c60803"
      },
      "source": [
        "clr_triangular.plot_lr_loss(loss_threshold=20)"
      ],
      "execution_count": 22,
      "outputs": [
        {
          "output_type": "display_data",
          "data": {
            "image/png": "[encoded data removed]",
            "text/plain": [
              "<Figure size 504x504 with 1 Axes>"
            ]
          },
          "metadata": {
            "tags": []
          }
        }
      ]
    },
    {
      "cell_type": "code",
      "metadata": {
        "id": "c4ZlaJ9WpYlu",
        "colab_type": "code",
        "colab": {}
      },
      "source": [
        "def plot_twin(lr,loss,acc):\n",
        "  fig, ax1 = plt.subplots(figsize=(5,5))\n",
        "  ax1.set_xlabel('lr', fontsize=16)\n",
        "  ax1.set_ylabel('loss', fontsize=16)\n",
        "  ax1.semilogx(lr,loss,c='r', label='loss')\n",
        "  ax1.legend()\n",
        "\n",
        "  ax2 = ax1.twinx()\n",
        "  ax2.set_ylabel('acc', fontsize=16)\n",
        "  ax2.semilogx(lr,acc,c='b',label='acc')\n",
        "  ax2.legend()\n",
        "  plt.show()\n"
      ],
      "execution_count": 0,
      "outputs": []
    },
    {
      "cell_type": "code",
      "metadata": {
        "id": "HxjM6kTARPPf",
        "colab_type": "code",
        "colab": {
          "base_uri": "https://localhost:8080/",
          "height": 343
        },
        "outputId": "e90bb204-d751-4650-ed97-a0498a4a4124"
      },
      "source": [
        "plot_twin(clr_triangular.history['lr'],\n",
        "          clr_triangular.history['loss'],\n",
        "          clr_triangular.history['acc'])"
      ],
      "execution_count": 24,
      "outputs": [
        {
          "output_type": "display_data",
          "data": {
            "image/png": "[encoded data removed]",
            "text/plain": [
              "<Figure size 360x360 with 2 Axes>"
            ]
          },
          "metadata": {
            "tags": []
          }
        }
      ]
    },
    {
      "cell_type": "code",
      "metadata": {
        "id": "zffUNg8TRZc0",
        "colab_type": "code",
        "colab": {}
      },
      "source": [
        ""
      ],
      "execution_count": 0,
      "outputs": []
    }
  ]
}